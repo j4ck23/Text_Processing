{
 "cells": [
  {
   "cell_type": "markdown",
   "id": "62ff93f4",
   "metadata": {},
   "source": [
    "Two methods are used for this task, the first is preprocessing the data to remove stop words as well as check against common positive words, the second is just to extract the positve scores of un processed text to see the difference"
   ]
  },
  {
   "cell_type": "code",
   "execution_count": 1,
   "id": "fdbe85e8",
   "metadata": {},
   "outputs": [
    {
     "name": "stderr",
     "output_type": "stream",
     "text": [
      "[nltk_data] Downloading package wordnet to\n",
      "[nltk_data]     C:\\Users\\jackd\\AppData\\Roaming\\nltk_data...\n",
      "[nltk_data]   Package wordnet is already up-to-date!\n",
      "[nltk_data] Downloading package stopwords to\n",
      "[nltk_data]     C:\\Users\\jackd\\AppData\\Roaming\\nltk_data...\n",
      "[nltk_data]   Package stopwords is already up-to-date!\n",
      "[nltk_data] Downloading package vader_lexicon to\n",
      "[nltk_data]     C:\\Users\\jackd\\AppData\\Roaming\\nltk_data...\n",
      "[nltk_data]   Package vader_lexicon is already up-to-date!\n"
     ]
    },
    {
     "data": {
      "text/plain": [
       "True"
      ]
     },
     "execution_count": 1,
     "metadata": {},
     "output_type": "execute_result"
    }
   ],
   "source": [
    "import spacy\n",
    "from spacy.lang.en import English\n",
    "import nltk\n",
    "from nltk.corpus import wordnet as wn\n",
    "from nltk.stem.wordnet import WordNetLemmatizer\n",
    "from nltk.sentiment import SentimentIntensityAnalyzer\n",
    "from nltk.tokenize import word_tokenize\n",
    "from statistics import mean\n",
    "from sklearn.model_selection import train_test_split, GridSearchCV\n",
    "import gensim\n",
    "from gensim import corpora\n",
    "from tqdm import tqdm\n",
    "import pandas as pd\n",
    "import numpy as np\n",
    "import random\n",
    "from sklearn.svm import SVC\n",
    "from sklearn.metrics import ConfusionMatrixDisplay, confusion_matrix, accuracy_score\n",
    "from sklearn.feature_extraction.text import CountVectorizer\n",
    "from sklearn.preprocessing import MultiLabelBinarizer\n",
    "import matplotlib.pyplot as plt\n",
    "from gtts import gTTS\n",
    "import IPython\n",
    "nltk.download(\"wordnet\")\n",
    "nltk.download(\"stopwords\")\n",
    "nltk.download(\"vader_lexicon\")"
   ]
  },
  {
   "cell_type": "code",
   "execution_count": 2,
   "id": "543c4d8a",
   "metadata": {
    "scrolled": true
   },
   "outputs": [
    {
     "data": {
      "text/html": [
       "<div>\n",
       "<style scoped>\n",
       "    .dataframe tbody tr th:only-of-type {\n",
       "        vertical-align: middle;\n",
       "    }\n",
       "\n",
       "    .dataframe tbody tr th {\n",
       "        vertical-align: top;\n",
       "    }\n",
       "\n",
       "    .dataframe thead th {\n",
       "        text-align: right;\n",
       "    }\n",
       "</style>\n",
       "<table border=\"1\" class=\"dataframe\">\n",
       "  <thead>\n",
       "    <tr style=\"text-align: right;\">\n",
       "      <th></th>\n",
       "      <th>sentiments</th>\n",
       "      <th>cleaned_review</th>\n",
       "      <th>cleaned_review_length</th>\n",
       "      <th>review_score</th>\n",
       "    </tr>\n",
       "  </thead>\n",
       "  <tbody>\n",
       "    <tr>\n",
       "      <th>0</th>\n",
       "      <td>positive</td>\n",
       "      <td>i wish would have gotten one earlier love it a...</td>\n",
       "      <td>19</td>\n",
       "      <td>5.0</td>\n",
       "    </tr>\n",
       "    <tr>\n",
       "      <th>1</th>\n",
       "      <td>neutral</td>\n",
       "      <td>i ve learned this lesson again open the packag...</td>\n",
       "      <td>88</td>\n",
       "      <td>1.0</td>\n",
       "    </tr>\n",
       "    <tr>\n",
       "      <th>2</th>\n",
       "      <td>neutral</td>\n",
       "      <td>it is so slow and lags find better option</td>\n",
       "      <td>9</td>\n",
       "      <td>2.0</td>\n",
       "    </tr>\n",
       "    <tr>\n",
       "      <th>3</th>\n",
       "      <td>neutral</td>\n",
       "      <td>roller ball stopped working within months of m...</td>\n",
       "      <td>12</td>\n",
       "      <td>1.0</td>\n",
       "    </tr>\n",
       "    <tr>\n",
       "      <th>4</th>\n",
       "      <td>neutral</td>\n",
       "      <td>i like the color and size but it few days out ...</td>\n",
       "      <td>21</td>\n",
       "      <td>1.0</td>\n",
       "    </tr>\n",
       "    <tr>\n",
       "      <th>...</th>\n",
       "      <td>...</td>\n",
       "      <td>...</td>\n",
       "      <td>...</td>\n",
       "      <td>...</td>\n",
       "    </tr>\n",
       "    <tr>\n",
       "      <th>17335</th>\n",
       "      <td>positive</td>\n",
       "      <td>i love this speaker and love can take it anywh...</td>\n",
       "      <td>30</td>\n",
       "      <td>5.0</td>\n",
       "    </tr>\n",
       "    <tr>\n",
       "      <th>17336</th>\n",
       "      <td>positive</td>\n",
       "      <td>i use it in my house easy to connect and loud ...</td>\n",
       "      <td>13</td>\n",
       "      <td>4.0</td>\n",
       "    </tr>\n",
       "    <tr>\n",
       "      <th>17337</th>\n",
       "      <td>positive</td>\n",
       "      <td>the bass is good and the battery is amazing mu...</td>\n",
       "      <td>41</td>\n",
       "      <td>5.0</td>\n",
       "    </tr>\n",
       "    <tr>\n",
       "      <th>17338</th>\n",
       "      <td>positive</td>\n",
       "      <td>love it</td>\n",
       "      <td>2</td>\n",
       "      <td>5.0</td>\n",
       "    </tr>\n",
       "    <tr>\n",
       "      <th>17339</th>\n",
       "      <td>neutral</td>\n",
       "      <td>mono speaker</td>\n",
       "      <td>2</td>\n",
       "      <td>5.0</td>\n",
       "    </tr>\n",
       "  </tbody>\n",
       "</table>\n",
       "<p>17340 rows × 4 columns</p>\n",
       "</div>"
      ],
      "text/plain": [
       "      sentiments                                     cleaned_review  \\\n",
       "0       positive  i wish would have gotten one earlier love it a...   \n",
       "1        neutral  i ve learned this lesson again open the packag...   \n",
       "2        neutral          it is so slow and lags find better option   \n",
       "3        neutral  roller ball stopped working within months of m...   \n",
       "4        neutral  i like the color and size but it few days out ...   \n",
       "...          ...                                                ...   \n",
       "17335   positive  i love this speaker and love can take it anywh...   \n",
       "17336   positive  i use it in my house easy to connect and loud ...   \n",
       "17337   positive  the bass is good and the battery is amazing mu...   \n",
       "17338   positive                                            love it   \n",
       "17339    neutral                                       mono speaker   \n",
       "\n",
       "       cleaned_review_length  review_score  \n",
       "0                         19           5.0  \n",
       "1                         88           1.0  \n",
       "2                          9           2.0  \n",
       "3                         12           1.0  \n",
       "4                         21           1.0  \n",
       "...                      ...           ...  \n",
       "17335                     30           5.0  \n",
       "17336                     13           4.0  \n",
       "17337                     41           5.0  \n",
       "17338                      2           5.0  \n",
       "17339                      2           5.0  \n",
       "\n",
       "[17340 rows x 4 columns]"
      ]
     },
     "execution_count": 2,
     "metadata": {},
     "output_type": "execute_result"
    }
   ],
   "source": [
    "#Read the data into a dataframe\n",
    "file = pd.read_csv(r'./data_assessment_2/data_for_sentiment_analyzis/amazon_reviews.csv')\n",
    "df = pd.DataFrame(file)\n",
    "df"
   ]
  },
  {
   "cell_type": "code",
   "execution_count": 3,
   "id": "83302ecc",
   "metadata": {},
   "outputs": [
    {
     "name": "stdout",
     "output_type": "stream",
     "text": [
      "Positive samples =  9503\n",
      "Negative samplees =  1534\n",
      "Neutral samples =  6303\n"
     ]
    }
   ],
   "source": [
    "print('Positive samples = ',len(df[df['sentiments'] == 'positive'])) #Check spread of data\n",
    "print('Negative samplees = ',len(df[df['sentiments'] == 'negative']))\n",
    "print('Neutral samples = ',len(df[df['sentiments'] == 'neutral']))"
   ]
  },
  {
   "cell_type": "code",
   "execution_count": 4,
   "id": "01da811e",
   "metadata": {},
   "outputs": [
    {
     "data": {
      "text/html": [
       "<div>\n",
       "<style scoped>\n",
       "    .dataframe tbody tr th:only-of-type {\n",
       "        vertical-align: middle;\n",
       "    }\n",
       "\n",
       "    .dataframe tbody tr th {\n",
       "        vertical-align: top;\n",
       "    }\n",
       "\n",
       "    .dataframe thead th {\n",
       "        text-align: right;\n",
       "    }\n",
       "</style>\n",
       "<table border=\"1\" class=\"dataframe\">\n",
       "  <thead>\n",
       "    <tr style=\"text-align: right;\">\n",
       "      <th></th>\n",
       "      <th>sentiments</th>\n",
       "      <th>cleaned_review</th>\n",
       "      <th>cleaned_review_length</th>\n",
       "      <th>review_score</th>\n",
       "    </tr>\n",
       "  </thead>\n",
       "  <tbody>\n",
       "    <tr>\n",
       "      <th>0</th>\n",
       "      <td>positive</td>\n",
       "      <td>i wish would have gotten one earlier love it a...</td>\n",
       "      <td>19</td>\n",
       "      <td>5.0</td>\n",
       "    </tr>\n",
       "    <tr>\n",
       "      <th>1</th>\n",
       "      <td>neutral</td>\n",
       "      <td>i ve learned this lesson again open the packag...</td>\n",
       "      <td>88</td>\n",
       "      <td>1.0</td>\n",
       "    </tr>\n",
       "    <tr>\n",
       "      <th>2</th>\n",
       "      <td>neutral</td>\n",
       "      <td>it is so slow and lags find better option</td>\n",
       "      <td>9</td>\n",
       "      <td>2.0</td>\n",
       "    </tr>\n",
       "    <tr>\n",
       "      <th>3</th>\n",
       "      <td>neutral</td>\n",
       "      <td>roller ball stopped working within months of m...</td>\n",
       "      <td>12</td>\n",
       "      <td>1.0</td>\n",
       "    </tr>\n",
       "    <tr>\n",
       "      <th>4</th>\n",
       "      <td>neutral</td>\n",
       "      <td>i like the color and size but it few days out ...</td>\n",
       "      <td>21</td>\n",
       "      <td>1.0</td>\n",
       "    </tr>\n",
       "    <tr>\n",
       "      <th>...</th>\n",
       "      <td>...</td>\n",
       "      <td>...</td>\n",
       "      <td>...</td>\n",
       "      <td>...</td>\n",
       "    </tr>\n",
       "    <tr>\n",
       "      <th>17316</th>\n",
       "      <td>positive</td>\n",
       "      <td>i love this speaker and love can take it anywh...</td>\n",
       "      <td>30</td>\n",
       "      <td>5.0</td>\n",
       "    </tr>\n",
       "    <tr>\n",
       "      <th>17317</th>\n",
       "      <td>positive</td>\n",
       "      <td>i use it in my house easy to connect and loud ...</td>\n",
       "      <td>13</td>\n",
       "      <td>4.0</td>\n",
       "    </tr>\n",
       "    <tr>\n",
       "      <th>17318</th>\n",
       "      <td>positive</td>\n",
       "      <td>the bass is good and the battery is amazing mu...</td>\n",
       "      <td>41</td>\n",
       "      <td>5.0</td>\n",
       "    </tr>\n",
       "    <tr>\n",
       "      <th>17319</th>\n",
       "      <td>positive</td>\n",
       "      <td>love it</td>\n",
       "      <td>2</td>\n",
       "      <td>5.0</td>\n",
       "    </tr>\n",
       "    <tr>\n",
       "      <th>17320</th>\n",
       "      <td>neutral</td>\n",
       "      <td>mono speaker</td>\n",
       "      <td>2</td>\n",
       "      <td>5.0</td>\n",
       "    </tr>\n",
       "  </tbody>\n",
       "</table>\n",
       "<p>17321 rows × 4 columns</p>\n",
       "</div>"
      ],
      "text/plain": [
       "      sentiments                                     cleaned_review  \\\n",
       "0       positive  i wish would have gotten one earlier love it a...   \n",
       "1        neutral  i ve learned this lesson again open the packag...   \n",
       "2        neutral          it is so slow and lags find better option   \n",
       "3        neutral  roller ball stopped working within months of m...   \n",
       "4        neutral  i like the color and size but it few days out ...   \n",
       "...          ...                                                ...   \n",
       "17316   positive  i love this speaker and love can take it anywh...   \n",
       "17317   positive  i use it in my house easy to connect and loud ...   \n",
       "17318   positive  the bass is good and the battery is amazing mu...   \n",
       "17319   positive                                            love it   \n",
       "17320    neutral                                       mono speaker   \n",
       "\n",
       "       cleaned_review_length  review_score  \n",
       "0                         19           5.0  \n",
       "1                         88           1.0  \n",
       "2                          9           2.0  \n",
       "3                         12           1.0  \n",
       "4                         21           1.0  \n",
       "...                      ...           ...  \n",
       "17316                     30           5.0  \n",
       "17317                     13           4.0  \n",
       "17318                     41           5.0  \n",
       "17319                      2           5.0  \n",
       "17320                      2           5.0  \n",
       "\n",
       "[17321 rows x 4 columns]"
      ]
     },
     "execution_count": 4,
     "metadata": {},
     "output_type": "execute_result"
    }
   ],
   "source": [
    "#DropNA does not catch blanks that need to be reomve for the feature extraction to work\n",
    "#Instead i drop all columns in the list\n",
    "df = df.drop([2085, 2894, 4333, 6043, 6841, 9526, 10063, 11388, 12912, 14435, 15481, 15557, 16222, 16495, 16502, 16529, 16802, 16911, 17281])\n",
    "#Remove blank reviews for tokenization\n",
    "df = df.reset_index(drop=True)\n",
    "\n",
    "df"
   ]
  },
  {
   "cell_type": "code",
   "execution_count": 5,
   "id": "4a6e0425",
   "metadata": {},
   "outputs": [
    {
     "name": "stderr",
     "output_type": "stream",
     "text": [
      "100%|██████████████████████████████████████████████████████████████████████████| 17321/17321 [00:02<00:00, 7713.53it/s]\n"
     ]
    }
   ],
   "source": [
    "stop_words = nltk.corpus.stopwords.words('english')\n",
    "positive_reviews = []\n",
    "negative_reviews = []\n",
    "neutral_reviews = []\n",
    "for i in tqdm(range(len(df))):#Loop through dataframe\n",
    "    if df.loc[i,'sentiments'] == 'positive':#check sentiment tag\n",
    "        pos_word = df.loc[i, 'cleaned_review']#selects the cleaned review text\n",
    "        pos_word = word_tokenize(pos_word) #tokenize reivew\n",
    "        pos_word = [word.lower() for word in pos_word] #converts tokens to lower case\n",
    "        pos_word = [word for word in pos_word if word not in stop_words] #remove stop words\n",
    "        positive_reviews.append(pos_word)#append preprocessed review\n",
    "    elif df.loc[i,'sentiments'] == 'negative':\n",
    "        neg_word = df.loc[i, 'cleaned_review']\n",
    "        neg_word = word_tokenize(neg_word)\n",
    "        neg_word = [word.lower() for word in neg_word]\n",
    "        neg_word = [word for word in neg_word if word not in stop_words]\n",
    "        negative_reviews.append(neg_word)\n",
    "    elif df.loc[i,'sentiments'] == 'neutral':\n",
    "        neutral_word = df.loc[i, 'cleaned_review']\n",
    "        neutral_word = word_tokenize(neutral_word)\n",
    "        neutral_word = [word.lower() for word in neutral_word]\n",
    "        neutral_word = [word for word in neutral_word if word not in stop_words]\n",
    "        neutral_reviews.append(neutral_word)\n",
    "    else:\n",
    "        print(\"Unrecgonised tag at index = \", i)"
   ]
  },
  {
   "cell_type": "code",
   "execution_count": 6,
   "id": "de49a1cc",
   "metadata": {},
   "outputs": [],
   "source": [
    "all_posWords = []\n",
    "all_negWords = []\n",
    "all_neutralWords = []\n",
    "\n",
    "for wordList in positive_reviews:\n",
    "    all_posWords += wordList\n",
    "    \n",
    "for wordList in negative_reviews:\n",
    "    all_negWords += wordList\n",
    "    \n",
    "for wordList in neutral_reviews:\n",
    "    all_neutralWords += wordList\n",
    "\n",
    "positive_fd = nltk.FreqDist(all_posWords)#frequency distribution for review words\n",
    "negative_fd = nltk.FreqDist(all_negWords)\n",
    "neutral_fd = nltk.FreqDist(all_neutralWords)\n",
    "\n",
    "most_common_pos = {word for word, count in positive_fd.most_common(100)}#selects most common words in each dist\n",
    "most_common_neg = {word for word, count in negative_fd.most_common(100)}\n",
    "most_common_neutral = {word for word, count in neutral_fd.most_common(100)}"
   ]
  },
  {
   "cell_type": "code",
   "execution_count": 7,
   "id": "924b2710",
   "metadata": {},
   "outputs": [],
   "source": [
    "sia = SentimentIntensityAnalyzer()\n",
    "def feat_extract1(text):#extracts sentiment of each review\n",
    "    features = []\n",
    "    wordcount = 0\n",
    "    compound_scores = list()\n",
    "    positive_scores = list()\n",
    "    for sentence in nltk.sent_tokenize(text):\n",
    "        for word in nltk.word_tokenize(sentence):\n",
    "            if word.lower() in most_common_pos:\n",
    "                wordcount +=1\n",
    "        compound_scores.append(sia.polarity_scores(sentence)[\"compound\"])\n",
    "        positive_scores.append(sia.polarity_scores(sentence)[\"pos\"])#gets compound and postive score for prediction\n",
    "    features.append(mean(compound_scores) +1)\n",
    "    features.append(mean(positive_scores))\n",
    "    features.append(wordcount)\n",
    "    return features"
   ]
  },
  {
   "cell_type": "code",
   "execution_count": 8,
   "id": "5c57a8f3",
   "metadata": {},
   "outputs": [
    {
     "name": "stderr",
     "output_type": "stream",
     "text": [
      "100%|██████████████████████████████████████████████████████████████████████████| 17321/17321 [00:09<00:00, 1840.37it/s]\n"
     ]
    }
   ],
   "source": [
    "pos_features = []\n",
    "neg_features = []\n",
    "neutral_features = []\n",
    "pos_labels = []\n",
    "neg_labels = []\n",
    "neutral_labels = []\n",
    "\n",
    "#Gather data for prediciton\n",
    "for i in tqdm(range(len(df))):\n",
    "    if df.loc[i, 'sentiments'] == 'positive':\n",
    "        word = df.loc[i, 'cleaned_review']\n",
    "        pos_features.append(feat_extract1(word))\n",
    "        pos_labels.append('positive')\n",
    "    elif df.loc[i, 'sentiments'] == 'negative':\n",
    "        word = df.loc[i, 'cleaned_review']\n",
    "        neg_features.append(feat_extract1(word))\n",
    "        neg_labels.append('negative')\n",
    "    elif df.loc[i, 'sentiments'] == 'neutral':\n",
    "        word = df.loc[i, 'cleaned_review']\n",
    "        neutral_features.append(feat_extract1(word))\n",
    "        neutral_labels.append('neutral')"
   ]
  },
  {
   "cell_type": "markdown",
   "id": "3a804036",
   "metadata": {},
   "source": [
    "To split the data i will split all the tags to a 70 30% split then add them to one big train list\n",
    "This is to advoid any bias in the training with one sample having little to no representation"
   ]
  },
  {
   "cell_type": "code",
   "execution_count": 9,
   "id": "cd7fb8e1",
   "metadata": {},
   "outputs": [],
   "source": [
    "#Split the tree reviews in to 70 30 train test as mention above\n",
    "pos_train_X, pos_test_X, pos_train_y, pos_test_y = train_test_split(pos_features, pos_labels, test_size=0.3)\n",
    "neg_train_X, neg_test_X, neg_train_y, neg_test_y = train_test_split(neg_features, neg_labels, test_size=0.3)\n",
    "neutral_train_X, neutral_test_X, neutral_train_y, neutral_test_y = train_test_split(neutral_features, neutral_labels, test_size=0.3)"
   ]
  },
  {
   "cell_type": "code",
   "execution_count": 15,
   "id": "281a0b9c",
   "metadata": {},
   "outputs": [],
   "source": [
    "train_features = []\n",
    "train_features.extend(pos_train_X)\n",
    "train_features.extend(neg_train_X)\n",
    "train_features.extend(neutral_train_X)\n",
    "\n",
    "train_labels = []\n",
    "train_labels.extend(pos_train_y)\n",
    "train_labels.extend(neg_train_y)\n",
    "train_labels.extend(neutral_train_y)\n",
    "\n",
    "test_features = []\n",
    "test_features.extend(pos_test_X)\n",
    "test_features.extend(neg_test_X)\n",
    "test_features.extend(neutral_test_X)\n",
    "\n",
    "test_labels = []\n",
    "test_labels.extend(pos_test_y)\n",
    "test_labels.extend(neg_test_y)\n",
    "test_labels.extend(neutral_test_y)"
   ]
  },
  {
   "cell_type": "code",
   "execution_count": 16,
   "id": "0cb3bcc5",
   "metadata": {},
   "outputs": [],
   "source": [
    "c = list(zip(train_features, train_labels))\n",
    "random.shuffle(c)\n",
    "train_features, train_labels = zip(*c)\n",
    "\n",
    "c = list(zip(test_features, test_labels))\n",
    "random.shuffle(c)\n",
    "test_features, test_labels = zip(*c)\n",
    "\n",
    "#Shuffles the data and labels keeping each postion matched so it can be used to evalute the classifer"
   ]
  },
  {
   "cell_type": "code",
   "execution_count": 17,
   "id": "467d4ac0",
   "metadata": {},
   "outputs": [],
   "source": [
    "train_features = np.array(train_features)\n",
    "train_labels = np.array(train_labels)\n",
    "test_features = np.array(test_features)\n",
    "test_labels = np.array(test_labels)#conver to np arrays"
   ]
  },
  {
   "cell_type": "markdown",
   "id": "0d37aa6e",
   "metadata": {},
   "source": [
    "Hyper Parameter Training can take a while to run so dont run it everytime"
   ]
  },
  {
   "cell_type": "code",
   "execution_count": 18,
   "id": "b4c80388",
   "metadata": {},
   "outputs": [
    {
     "ename": "KeyboardInterrupt",
     "evalue": "",
     "output_type": "error",
     "traceback": [
      "\u001b[1;31m---------------------------------------------------------------------------\u001b[0m",
      "\u001b[1;31mKeyboardInterrupt\u001b[0m                         Traceback (most recent call last)",
      "\u001b[1;32m~\\AppData\\Local\\Temp/ipykernel_7328/4082895849.py\u001b[0m in \u001b[0;36m<module>\u001b[1;34m\u001b[0m\n\u001b[0;32m      1\u001b[0m \u001b[0mparam\u001b[0m \u001b[1;33m=\u001b[0m \u001b[1;33m{\u001b[0m\u001b[1;34m'C'\u001b[0m\u001b[1;33m:\u001b[0m \u001b[1;33m[\u001b[0m\u001b[1;36m1\u001b[0m\u001b[1;33m,\u001b[0m \u001b[1;36m10\u001b[0m\u001b[1;33m,\u001b[0m \u001b[1;36m100\u001b[0m\u001b[1;33m]\u001b[0m\u001b[1;33m,\u001b[0m \u001b[1;34m'gamma'\u001b[0m\u001b[1;33m:\u001b[0m \u001b[1;33m[\u001b[0m\u001b[1;36m0.001\u001b[0m\u001b[1;33m,\u001b[0m \u001b[1;36m0.0001\u001b[0m\u001b[1;33m]\u001b[0m\u001b[1;33m,\u001b[0m \u001b[1;34m'kernel'\u001b[0m\u001b[1;33m:\u001b[0m \u001b[1;33m[\u001b[0m\u001b[1;34m'linear'\u001b[0m\u001b[1;33m,\u001b[0m \u001b[1;34m'rbf'\u001b[0m\u001b[1;33m]\u001b[0m\u001b[1;33m}\u001b[0m \u001b[1;31m#set param to test\u001b[0m\u001b[1;33m\u001b[0m\u001b[1;33m\u001b[0m\u001b[0m\n\u001b[0;32m      2\u001b[0m \u001b[0mTune_SVC\u001b[0m \u001b[1;33m=\u001b[0m \u001b[0mGridSearchCV\u001b[0m\u001b[1;33m(\u001b[0m\u001b[0mestimator\u001b[0m\u001b[1;33m=\u001b[0m\u001b[0mSVC\u001b[0m\u001b[1;33m(\u001b[0m\u001b[1;33m)\u001b[0m\u001b[1;33m,\u001b[0m \u001b[0mparam_grid\u001b[0m\u001b[1;33m=\u001b[0m\u001b[0mparam\u001b[0m\u001b[1;33m,\u001b[0m \u001b[0mcv\u001b[0m\u001b[1;33m=\u001b[0m\u001b[1;36m10\u001b[0m\u001b[1;33m,\u001b[0m \u001b[0mscoring\u001b[0m\u001b[1;33m=\u001b[0m\u001b[1;34m'accuracy'\u001b[0m\u001b[1;33m)\u001b[0m \u001b[1;31m#establish classifier and params\u001b[0m\u001b[1;33m\u001b[0m\u001b[1;33m\u001b[0m\u001b[0m\n\u001b[1;32m----> 3\u001b[1;33m \u001b[0mTune_SVC\u001b[0m\u001b[1;33m.\u001b[0m\u001b[0mfit\u001b[0m\u001b[1;33m(\u001b[0m\u001b[0mtrain_features\u001b[0m\u001b[1;33m,\u001b[0m \u001b[0mtrain_labels\u001b[0m\u001b[1;33m)\u001b[0m\u001b[1;31m#fits data to run on\u001b[0m\u001b[1;33m\u001b[0m\u001b[1;33m\u001b[0m\u001b[0m\n\u001b[0m\u001b[0;32m      4\u001b[0m \u001b[0mprint\u001b[0m\u001b[1;33m(\u001b[0m\u001b[1;34m\"Best Parameters:\"\u001b[0m\u001b[1;33m)\u001b[0m\u001b[1;33m\u001b[0m\u001b[1;33m\u001b[0m\u001b[0m\n\u001b[0;32m      5\u001b[0m \u001b[0mprint\u001b[0m\u001b[1;33m(\u001b[0m\u001b[0mTune_SVC\u001b[0m\u001b[1;33m.\u001b[0m\u001b[0mbest_estimator_\u001b[0m\u001b[1;33m)\u001b[0m\u001b[1;33m\u001b[0m\u001b[1;33m\u001b[0m\u001b[0m\n",
      "\u001b[1;32m~\\anaconda3\\lib\\site-packages\\sklearn\\model_selection\\_search.py\u001b[0m in \u001b[0;36mfit\u001b[1;34m(self, X, y, groups, **fit_params)\u001b[0m\n\u001b[0;32m    872\u001b[0m                 \u001b[1;32mreturn\u001b[0m \u001b[0mresults\u001b[0m\u001b[1;33m\u001b[0m\u001b[1;33m\u001b[0m\u001b[0m\n\u001b[0;32m    873\u001b[0m \u001b[1;33m\u001b[0m\u001b[0m\n\u001b[1;32m--> 874\u001b[1;33m             \u001b[0mself\u001b[0m\u001b[1;33m.\u001b[0m\u001b[0m_run_search\u001b[0m\u001b[1;33m(\u001b[0m\u001b[0mevaluate_candidates\u001b[0m\u001b[1;33m)\u001b[0m\u001b[1;33m\u001b[0m\u001b[1;33m\u001b[0m\u001b[0m\n\u001b[0m\u001b[0;32m    875\u001b[0m \u001b[1;33m\u001b[0m\u001b[0m\n\u001b[0;32m    876\u001b[0m             \u001b[1;31m# multimetric is determined here because in the case of a callable\u001b[0m\u001b[1;33m\u001b[0m\u001b[1;33m\u001b[0m\u001b[0m\n",
      "\u001b[1;32m~\\anaconda3\\lib\\site-packages\\sklearn\\model_selection\\_search.py\u001b[0m in \u001b[0;36m_run_search\u001b[1;34m(self, evaluate_candidates)\u001b[0m\n\u001b[0;32m   1386\u001b[0m     \u001b[1;32mdef\u001b[0m \u001b[0m_run_search\u001b[0m\u001b[1;33m(\u001b[0m\u001b[0mself\u001b[0m\u001b[1;33m,\u001b[0m \u001b[0mevaluate_candidates\u001b[0m\u001b[1;33m)\u001b[0m\u001b[1;33m:\u001b[0m\u001b[1;33m\u001b[0m\u001b[1;33m\u001b[0m\u001b[0m\n\u001b[0;32m   1387\u001b[0m         \u001b[1;34m\"\"\"Search all candidates in param_grid\"\"\"\u001b[0m\u001b[1;33m\u001b[0m\u001b[1;33m\u001b[0m\u001b[0m\n\u001b[1;32m-> 1388\u001b[1;33m         \u001b[0mevaluate_candidates\u001b[0m\u001b[1;33m(\u001b[0m\u001b[0mParameterGrid\u001b[0m\u001b[1;33m(\u001b[0m\u001b[0mself\u001b[0m\u001b[1;33m.\u001b[0m\u001b[0mparam_grid\u001b[0m\u001b[1;33m)\u001b[0m\u001b[1;33m)\u001b[0m\u001b[1;33m\u001b[0m\u001b[1;33m\u001b[0m\u001b[0m\n\u001b[0m\u001b[0;32m   1389\u001b[0m \u001b[1;33m\u001b[0m\u001b[0m\n\u001b[0;32m   1390\u001b[0m \u001b[1;33m\u001b[0m\u001b[0m\n",
      "\u001b[1;32m~\\anaconda3\\lib\\site-packages\\sklearn\\model_selection\\_search.py\u001b[0m in \u001b[0;36mevaluate_candidates\u001b[1;34m(candidate_params, cv, more_results)\u001b[0m\n\u001b[0;32m    819\u001b[0m                     )\n\u001b[0;32m    820\u001b[0m \u001b[1;33m\u001b[0m\u001b[0m\n\u001b[1;32m--> 821\u001b[1;33m                 out = parallel(\n\u001b[0m\u001b[0;32m    822\u001b[0m                     delayed(_fit_and_score)(\n\u001b[0;32m    823\u001b[0m                         \u001b[0mclone\u001b[0m\u001b[1;33m(\u001b[0m\u001b[0mbase_estimator\u001b[0m\u001b[1;33m)\u001b[0m\u001b[1;33m,\u001b[0m\u001b[1;33m\u001b[0m\u001b[1;33m\u001b[0m\u001b[0m\n",
      "\u001b[1;32m~\\anaconda3\\lib\\site-packages\\sklearn\\utils\\parallel.py\u001b[0m in \u001b[0;36m__call__\u001b[1;34m(self, iterable)\u001b[0m\n\u001b[0;32m     61\u001b[0m             \u001b[1;32mfor\u001b[0m \u001b[0mdelayed_func\u001b[0m\u001b[1;33m,\u001b[0m \u001b[0margs\u001b[0m\u001b[1;33m,\u001b[0m \u001b[0mkwargs\u001b[0m \u001b[1;32min\u001b[0m \u001b[0miterable\u001b[0m\u001b[1;33m\u001b[0m\u001b[1;33m\u001b[0m\u001b[0m\n\u001b[0;32m     62\u001b[0m         )\n\u001b[1;32m---> 63\u001b[1;33m         \u001b[1;32mreturn\u001b[0m \u001b[0msuper\u001b[0m\u001b[1;33m(\u001b[0m\u001b[1;33m)\u001b[0m\u001b[1;33m.\u001b[0m\u001b[0m__call__\u001b[0m\u001b[1;33m(\u001b[0m\u001b[0miterable_with_config\u001b[0m\u001b[1;33m)\u001b[0m\u001b[1;33m\u001b[0m\u001b[1;33m\u001b[0m\u001b[0m\n\u001b[0m\u001b[0;32m     64\u001b[0m \u001b[1;33m\u001b[0m\u001b[0m\n\u001b[0;32m     65\u001b[0m \u001b[1;33m\u001b[0m\u001b[0m\n",
      "\u001b[1;32m~\\anaconda3\\lib\\site-packages\\joblib\\parallel.py\u001b[0m in \u001b[0;36m__call__\u001b[1;34m(self, iterable)\u001b[0m\n\u001b[0;32m   1086\u001b[0m                 \u001b[0mself\u001b[0m\u001b[1;33m.\u001b[0m\u001b[0m_iterating\u001b[0m \u001b[1;33m=\u001b[0m \u001b[0mself\u001b[0m\u001b[1;33m.\u001b[0m\u001b[0m_original_iterator\u001b[0m \u001b[1;32mis\u001b[0m \u001b[1;32mnot\u001b[0m \u001b[1;32mNone\u001b[0m\u001b[1;33m\u001b[0m\u001b[1;33m\u001b[0m\u001b[0m\n\u001b[0;32m   1087\u001b[0m \u001b[1;33m\u001b[0m\u001b[0m\n\u001b[1;32m-> 1088\u001b[1;33m             \u001b[1;32mwhile\u001b[0m \u001b[0mself\u001b[0m\u001b[1;33m.\u001b[0m\u001b[0mdispatch_one_batch\u001b[0m\u001b[1;33m(\u001b[0m\u001b[0miterator\u001b[0m\u001b[1;33m)\u001b[0m\u001b[1;33m:\u001b[0m\u001b[1;33m\u001b[0m\u001b[1;33m\u001b[0m\u001b[0m\n\u001b[0m\u001b[0;32m   1089\u001b[0m                 \u001b[1;32mpass\u001b[0m\u001b[1;33m\u001b[0m\u001b[1;33m\u001b[0m\u001b[0m\n\u001b[0;32m   1090\u001b[0m \u001b[1;33m\u001b[0m\u001b[0m\n",
      "\u001b[1;32m~\\anaconda3\\lib\\site-packages\\joblib\\parallel.py\u001b[0m in \u001b[0;36mdispatch_one_batch\u001b[1;34m(self, iterator)\u001b[0m\n\u001b[0;32m    899\u001b[0m                 \u001b[1;32mreturn\u001b[0m \u001b[1;32mFalse\u001b[0m\u001b[1;33m\u001b[0m\u001b[1;33m\u001b[0m\u001b[0m\n\u001b[0;32m    900\u001b[0m             \u001b[1;32melse\u001b[0m\u001b[1;33m:\u001b[0m\u001b[1;33m\u001b[0m\u001b[1;33m\u001b[0m\u001b[0m\n\u001b[1;32m--> 901\u001b[1;33m                 \u001b[0mself\u001b[0m\u001b[1;33m.\u001b[0m\u001b[0m_dispatch\u001b[0m\u001b[1;33m(\u001b[0m\u001b[0mtasks\u001b[0m\u001b[1;33m)\u001b[0m\u001b[1;33m\u001b[0m\u001b[1;33m\u001b[0m\u001b[0m\n\u001b[0m\u001b[0;32m    902\u001b[0m                 \u001b[1;32mreturn\u001b[0m \u001b[1;32mTrue\u001b[0m\u001b[1;33m\u001b[0m\u001b[1;33m\u001b[0m\u001b[0m\n\u001b[0;32m    903\u001b[0m \u001b[1;33m\u001b[0m\u001b[0m\n",
      "\u001b[1;32m~\\anaconda3\\lib\\site-packages\\joblib\\parallel.py\u001b[0m in \u001b[0;36m_dispatch\u001b[1;34m(self, batch)\u001b[0m\n\u001b[0;32m    817\u001b[0m         \u001b[1;32mwith\u001b[0m \u001b[0mself\u001b[0m\u001b[1;33m.\u001b[0m\u001b[0m_lock\u001b[0m\u001b[1;33m:\u001b[0m\u001b[1;33m\u001b[0m\u001b[1;33m\u001b[0m\u001b[0m\n\u001b[0;32m    818\u001b[0m             \u001b[0mjob_idx\u001b[0m \u001b[1;33m=\u001b[0m \u001b[0mlen\u001b[0m\u001b[1;33m(\u001b[0m\u001b[0mself\u001b[0m\u001b[1;33m.\u001b[0m\u001b[0m_jobs\u001b[0m\u001b[1;33m)\u001b[0m\u001b[1;33m\u001b[0m\u001b[1;33m\u001b[0m\u001b[0m\n\u001b[1;32m--> 819\u001b[1;33m             \u001b[0mjob\u001b[0m \u001b[1;33m=\u001b[0m \u001b[0mself\u001b[0m\u001b[1;33m.\u001b[0m\u001b[0m_backend\u001b[0m\u001b[1;33m.\u001b[0m\u001b[0mapply_async\u001b[0m\u001b[1;33m(\u001b[0m\u001b[0mbatch\u001b[0m\u001b[1;33m,\u001b[0m \u001b[0mcallback\u001b[0m\u001b[1;33m=\u001b[0m\u001b[0mcb\u001b[0m\u001b[1;33m)\u001b[0m\u001b[1;33m\u001b[0m\u001b[1;33m\u001b[0m\u001b[0m\n\u001b[0m\u001b[0;32m    820\u001b[0m             \u001b[1;31m# A job can complete so quickly than its callback is\u001b[0m\u001b[1;33m\u001b[0m\u001b[1;33m\u001b[0m\u001b[0m\n\u001b[0;32m    821\u001b[0m             \u001b[1;31m# called before we get here, causing self._jobs to\u001b[0m\u001b[1;33m\u001b[0m\u001b[1;33m\u001b[0m\u001b[0m\n",
      "\u001b[1;32m~\\anaconda3\\lib\\site-packages\\joblib\\_parallel_backends.py\u001b[0m in \u001b[0;36mapply_async\u001b[1;34m(self, func, callback)\u001b[0m\n\u001b[0;32m    206\u001b[0m     \u001b[1;32mdef\u001b[0m \u001b[0mapply_async\u001b[0m\u001b[1;33m(\u001b[0m\u001b[0mself\u001b[0m\u001b[1;33m,\u001b[0m \u001b[0mfunc\u001b[0m\u001b[1;33m,\u001b[0m \u001b[0mcallback\u001b[0m\u001b[1;33m=\u001b[0m\u001b[1;32mNone\u001b[0m\u001b[1;33m)\u001b[0m\u001b[1;33m:\u001b[0m\u001b[1;33m\u001b[0m\u001b[1;33m\u001b[0m\u001b[0m\n\u001b[0;32m    207\u001b[0m         \u001b[1;34m\"\"\"Schedule a func to be run\"\"\"\u001b[0m\u001b[1;33m\u001b[0m\u001b[1;33m\u001b[0m\u001b[0m\n\u001b[1;32m--> 208\u001b[1;33m         \u001b[0mresult\u001b[0m \u001b[1;33m=\u001b[0m \u001b[0mImmediateResult\u001b[0m\u001b[1;33m(\u001b[0m\u001b[0mfunc\u001b[0m\u001b[1;33m)\u001b[0m\u001b[1;33m\u001b[0m\u001b[1;33m\u001b[0m\u001b[0m\n\u001b[0m\u001b[0;32m    209\u001b[0m         \u001b[1;32mif\u001b[0m \u001b[0mcallback\u001b[0m\u001b[1;33m:\u001b[0m\u001b[1;33m\u001b[0m\u001b[1;33m\u001b[0m\u001b[0m\n\u001b[0;32m    210\u001b[0m             \u001b[0mcallback\u001b[0m\u001b[1;33m(\u001b[0m\u001b[0mresult\u001b[0m\u001b[1;33m)\u001b[0m\u001b[1;33m\u001b[0m\u001b[1;33m\u001b[0m\u001b[0m\n",
      "\u001b[1;32m~\\anaconda3\\lib\\site-packages\\joblib\\_parallel_backends.py\u001b[0m in \u001b[0;36m__init__\u001b[1;34m(self, batch)\u001b[0m\n\u001b[0;32m    595\u001b[0m         \u001b[1;31m# Don't delay the application, to avoid keeping the input\u001b[0m\u001b[1;33m\u001b[0m\u001b[1;33m\u001b[0m\u001b[0m\n\u001b[0;32m    596\u001b[0m         \u001b[1;31m# arguments in memory\u001b[0m\u001b[1;33m\u001b[0m\u001b[1;33m\u001b[0m\u001b[0m\n\u001b[1;32m--> 597\u001b[1;33m         \u001b[0mself\u001b[0m\u001b[1;33m.\u001b[0m\u001b[0mresults\u001b[0m \u001b[1;33m=\u001b[0m \u001b[0mbatch\u001b[0m\u001b[1;33m(\u001b[0m\u001b[1;33m)\u001b[0m\u001b[1;33m\u001b[0m\u001b[1;33m\u001b[0m\u001b[0m\n\u001b[0m\u001b[0;32m    598\u001b[0m \u001b[1;33m\u001b[0m\u001b[0m\n\u001b[0;32m    599\u001b[0m     \u001b[1;32mdef\u001b[0m \u001b[0mget\u001b[0m\u001b[1;33m(\u001b[0m\u001b[0mself\u001b[0m\u001b[1;33m)\u001b[0m\u001b[1;33m:\u001b[0m\u001b[1;33m\u001b[0m\u001b[1;33m\u001b[0m\u001b[0m\n",
      "\u001b[1;32m~\\anaconda3\\lib\\site-packages\\joblib\\parallel.py\u001b[0m in \u001b[0;36m__call__\u001b[1;34m(self)\u001b[0m\n\u001b[0;32m    286\u001b[0m         \u001b[1;31m# change the default number of processes to -1\u001b[0m\u001b[1;33m\u001b[0m\u001b[1;33m\u001b[0m\u001b[0m\n\u001b[0;32m    287\u001b[0m         \u001b[1;32mwith\u001b[0m \u001b[0mparallel_backend\u001b[0m\u001b[1;33m(\u001b[0m\u001b[0mself\u001b[0m\u001b[1;33m.\u001b[0m\u001b[0m_backend\u001b[0m\u001b[1;33m,\u001b[0m \u001b[0mn_jobs\u001b[0m\u001b[1;33m=\u001b[0m\u001b[0mself\u001b[0m\u001b[1;33m.\u001b[0m\u001b[0m_n_jobs\u001b[0m\u001b[1;33m)\u001b[0m\u001b[1;33m:\u001b[0m\u001b[1;33m\u001b[0m\u001b[1;33m\u001b[0m\u001b[0m\n\u001b[1;32m--> 288\u001b[1;33m             return [func(*args, **kwargs)\n\u001b[0m\u001b[0;32m    289\u001b[0m                     for func, args, kwargs in self.items]\n\u001b[0;32m    290\u001b[0m \u001b[1;33m\u001b[0m\u001b[0m\n",
      "\u001b[1;32m~\\anaconda3\\lib\\site-packages\\joblib\\parallel.py\u001b[0m in \u001b[0;36m<listcomp>\u001b[1;34m(.0)\u001b[0m\n\u001b[0;32m    286\u001b[0m         \u001b[1;31m# change the default number of processes to -1\u001b[0m\u001b[1;33m\u001b[0m\u001b[1;33m\u001b[0m\u001b[0m\n\u001b[0;32m    287\u001b[0m         \u001b[1;32mwith\u001b[0m \u001b[0mparallel_backend\u001b[0m\u001b[1;33m(\u001b[0m\u001b[0mself\u001b[0m\u001b[1;33m.\u001b[0m\u001b[0m_backend\u001b[0m\u001b[1;33m,\u001b[0m \u001b[0mn_jobs\u001b[0m\u001b[1;33m=\u001b[0m\u001b[0mself\u001b[0m\u001b[1;33m.\u001b[0m\u001b[0m_n_jobs\u001b[0m\u001b[1;33m)\u001b[0m\u001b[1;33m:\u001b[0m\u001b[1;33m\u001b[0m\u001b[1;33m\u001b[0m\u001b[0m\n\u001b[1;32m--> 288\u001b[1;33m             return [func(*args, **kwargs)\n\u001b[0m\u001b[0;32m    289\u001b[0m                     for func, args, kwargs in self.items]\n\u001b[0;32m    290\u001b[0m \u001b[1;33m\u001b[0m\u001b[0m\n",
      "\u001b[1;32m~\\anaconda3\\lib\\site-packages\\sklearn\\utils\\parallel.py\u001b[0m in \u001b[0;36m__call__\u001b[1;34m(self, *args, **kwargs)\u001b[0m\n\u001b[0;32m    121\u001b[0m             \u001b[0mconfig\u001b[0m \u001b[1;33m=\u001b[0m \u001b[1;33m{\u001b[0m\u001b[1;33m}\u001b[0m\u001b[1;33m\u001b[0m\u001b[1;33m\u001b[0m\u001b[0m\n\u001b[0;32m    122\u001b[0m         \u001b[1;32mwith\u001b[0m \u001b[0mconfig_context\u001b[0m\u001b[1;33m(\u001b[0m\u001b[1;33m**\u001b[0m\u001b[0mconfig\u001b[0m\u001b[1;33m)\u001b[0m\u001b[1;33m:\u001b[0m\u001b[1;33m\u001b[0m\u001b[1;33m\u001b[0m\u001b[0m\n\u001b[1;32m--> 123\u001b[1;33m             \u001b[1;32mreturn\u001b[0m \u001b[0mself\u001b[0m\u001b[1;33m.\u001b[0m\u001b[0mfunction\u001b[0m\u001b[1;33m(\u001b[0m\u001b[1;33m*\u001b[0m\u001b[0margs\u001b[0m\u001b[1;33m,\u001b[0m \u001b[1;33m**\u001b[0m\u001b[0mkwargs\u001b[0m\u001b[1;33m)\u001b[0m\u001b[1;33m\u001b[0m\u001b[1;33m\u001b[0m\u001b[0m\n\u001b[0m",
      "\u001b[1;32m~\\anaconda3\\lib\\site-packages\\sklearn\\model_selection\\_validation.py\u001b[0m in \u001b[0;36m_fit_and_score\u001b[1;34m(estimator, X, y, scorer, train, test, verbose, parameters, fit_params, return_train_score, return_parameters, return_n_test_samples, return_times, return_estimator, split_progress, candidate_progress, error_score)\u001b[0m\n\u001b[0;32m    684\u001b[0m             \u001b[0mestimator\u001b[0m\u001b[1;33m.\u001b[0m\u001b[0mfit\u001b[0m\u001b[1;33m(\u001b[0m\u001b[0mX_train\u001b[0m\u001b[1;33m,\u001b[0m \u001b[1;33m**\u001b[0m\u001b[0mfit_params\u001b[0m\u001b[1;33m)\u001b[0m\u001b[1;33m\u001b[0m\u001b[1;33m\u001b[0m\u001b[0m\n\u001b[0;32m    685\u001b[0m         \u001b[1;32melse\u001b[0m\u001b[1;33m:\u001b[0m\u001b[1;33m\u001b[0m\u001b[1;33m\u001b[0m\u001b[0m\n\u001b[1;32m--> 686\u001b[1;33m             \u001b[0mestimator\u001b[0m\u001b[1;33m.\u001b[0m\u001b[0mfit\u001b[0m\u001b[1;33m(\u001b[0m\u001b[0mX_train\u001b[0m\u001b[1;33m,\u001b[0m \u001b[0my_train\u001b[0m\u001b[1;33m,\u001b[0m \u001b[1;33m**\u001b[0m\u001b[0mfit_params\u001b[0m\u001b[1;33m)\u001b[0m\u001b[1;33m\u001b[0m\u001b[1;33m\u001b[0m\u001b[0m\n\u001b[0m\u001b[0;32m    687\u001b[0m \u001b[1;33m\u001b[0m\u001b[0m\n\u001b[0;32m    688\u001b[0m     \u001b[1;32mexcept\u001b[0m \u001b[0mException\u001b[0m\u001b[1;33m:\u001b[0m\u001b[1;33m\u001b[0m\u001b[1;33m\u001b[0m\u001b[0m\n",
      "\u001b[1;32m~\\anaconda3\\lib\\site-packages\\sklearn\\svm\\_base.py\u001b[0m in \u001b[0;36mfit\u001b[1;34m(self, X, y, sample_weight)\u001b[0m\n\u001b[0;32m    250\u001b[0m \u001b[1;33m\u001b[0m\u001b[0m\n\u001b[0;32m    251\u001b[0m         \u001b[0mseed\u001b[0m \u001b[1;33m=\u001b[0m \u001b[0mrnd\u001b[0m\u001b[1;33m.\u001b[0m\u001b[0mrandint\u001b[0m\u001b[1;33m(\u001b[0m\u001b[0mnp\u001b[0m\u001b[1;33m.\u001b[0m\u001b[0miinfo\u001b[0m\u001b[1;33m(\u001b[0m\u001b[1;34m\"i\"\u001b[0m\u001b[1;33m)\u001b[0m\u001b[1;33m.\u001b[0m\u001b[0mmax\u001b[0m\u001b[1;33m)\u001b[0m\u001b[1;33m\u001b[0m\u001b[1;33m\u001b[0m\u001b[0m\n\u001b[1;32m--> 252\u001b[1;33m         \u001b[0mfit\u001b[0m\u001b[1;33m(\u001b[0m\u001b[0mX\u001b[0m\u001b[1;33m,\u001b[0m \u001b[0my\u001b[0m\u001b[1;33m,\u001b[0m \u001b[0msample_weight\u001b[0m\u001b[1;33m,\u001b[0m \u001b[0msolver_type\u001b[0m\u001b[1;33m,\u001b[0m \u001b[0mkernel\u001b[0m\u001b[1;33m,\u001b[0m \u001b[0mrandom_seed\u001b[0m\u001b[1;33m=\u001b[0m\u001b[0mseed\u001b[0m\u001b[1;33m)\u001b[0m\u001b[1;33m\u001b[0m\u001b[1;33m\u001b[0m\u001b[0m\n\u001b[0m\u001b[0;32m    253\u001b[0m         \u001b[1;31m# see comment on the other call to np.iinfo in this file\u001b[0m\u001b[1;33m\u001b[0m\u001b[1;33m\u001b[0m\u001b[0m\n\u001b[0;32m    254\u001b[0m \u001b[1;33m\u001b[0m\u001b[0m\n",
      "\u001b[1;32m~\\anaconda3\\lib\\site-packages\\sklearn\\svm\\_base.py\u001b[0m in \u001b[0;36m_dense_fit\u001b[1;34m(self, X, y, sample_weight, solver_type, kernel, random_seed)\u001b[0m\n\u001b[0;32m    329\u001b[0m             \u001b[0mself\u001b[0m\u001b[1;33m.\u001b[0m\u001b[0mfit_status_\u001b[0m\u001b[1;33m,\u001b[0m\u001b[1;33m\u001b[0m\u001b[1;33m\u001b[0m\u001b[0m\n\u001b[0;32m    330\u001b[0m             \u001b[0mself\u001b[0m\u001b[1;33m.\u001b[0m\u001b[0m_num_iter\u001b[0m\u001b[1;33m,\u001b[0m\u001b[1;33m\u001b[0m\u001b[1;33m\u001b[0m\u001b[0m\n\u001b[1;32m--> 331\u001b[1;33m         \u001b[1;33m)\u001b[0m \u001b[1;33m=\u001b[0m \u001b[0mlibsvm\u001b[0m\u001b[1;33m.\u001b[0m\u001b[0mfit\u001b[0m\u001b[1;33m(\u001b[0m\u001b[1;33m\u001b[0m\u001b[1;33m\u001b[0m\u001b[0m\n\u001b[0m\u001b[0;32m    332\u001b[0m             \u001b[0mX\u001b[0m\u001b[1;33m,\u001b[0m\u001b[1;33m\u001b[0m\u001b[1;33m\u001b[0m\u001b[0m\n\u001b[0;32m    333\u001b[0m             \u001b[0my\u001b[0m\u001b[1;33m,\u001b[0m\u001b[1;33m\u001b[0m\u001b[1;33m\u001b[0m\u001b[0m\n",
      "\u001b[1;31mKeyboardInterrupt\u001b[0m: "
     ]
    }
   ],
   "source": [
    "param = {'C': [1, 10, 100], 'gamma': [0.001, 0.0001], 'kernel': ['linear', 'rbf']} #set param to test\n",
    "Tune_SVC = GridSearchCV(estimator=SVC(), param_grid=param, cv=10, scoring='accuracy') #establish classifier and params\n",
    "Tune_SVC.fit(train_features, train_labels)#fits data to run on\n",
    "print(\"Best Parameters:\")\n",
    "print(Tune_SVC.best_estimator_)\n",
    "\n",
    "df_SVC = pd.DataFrame({'parameters':Tune_SVC.cv_results_[\"params\"], 'Mean_Accuracy':Tune_SVC.cv_results_[\"mean_test_score\"]})\n",
    "df_SVC#gathers the data into a daatframe for easy viewing"
   ]
  },
  {
   "cell_type": "code",
   "execution_count": 19,
   "id": "089ffa46",
   "metadata": {},
   "outputs": [
    {
     "name": "stdout",
     "output_type": "stream",
     "text": [
      "Prediction accuracy = 0.9774913428241632\n"
     ]
    },
    {
     "data": {
      "image/png": "[encoded data removed]",
      "text/plain": [
       "<Figure size 432x288 with 2 Axes>"
      ]
     },
     "metadata": {
      "needs_background": "light"
     },
     "output_type": "display_data"
    }
   ],
   "source": [
    "clf = SVC(C=1, gamma=0.001, kernel='linear')#build and test classifier\n",
    "clf.fit(train_features, train_labels)\n",
    "\n",
    "predict = clf.predict(test_features)\n",
    "\n",
    "matrix = confusion_matrix(test_labels, predict)\n",
    "cm_display = ConfusionMatrixDisplay(confusion_matrix= matrix)\n",
    "\n",
    "print('Prediction accuracy =', accuracy_score(test_labels, predict))\n",
    "cm_display.plot()\n",
    "plt.show()"
   ]
  },
  {
   "cell_type": "markdown",
   "id": "daa4b340",
   "metadata": {},
   "source": [
    "Second method - Count vecotrize"
   ]
  },
  {
   "cell_type": "code",
   "execution_count": 16,
   "id": "7097b9b9",
   "metadata": {},
   "outputs": [
    {
     "data": {
      "text/plain": [
       "array([[0, 0, 0, ..., 0, 1, 0],\n",
       "       [0, 1, 0, ..., 0, 0, 0],\n",
       "       [0, 0, 0, ..., 0, 0, 0],\n",
       "       ...,\n",
       "       [0, 0, 0, ..., 0, 0, 0],\n",
       "       [0, 0, 0, ..., 0, 0, 0],\n",
       "       [0, 0, 0, ..., 0, 0, 0]], dtype=int64)"
      ]
     },
     "execution_count": 16,
     "metadata": {},
     "output_type": "execute_result"
    }
   ],
   "source": [
    "matrix = CountVectorizer(max_features=100)#counter vector of reviews\n",
    "X = matrix.fit_transform(df['cleaned_review']).toarray()\n",
    "X"
   ]
  },
  {
   "cell_type": "code",
   "execution_count": 18,
   "id": "6a5125fb",
   "metadata": {},
   "outputs": [],
   "source": [
    "lables = df['sentiments']"
   ]
  },
  {
   "cell_type": "code",
   "execution_count": 20,
   "id": "05eab7ce",
   "metadata": {},
   "outputs": [],
   "source": [
    "X_train, X_test, y_train, y_test = train_test_split(X, lables, test_size=0.3)#split into test train"
   ]
  },
  {
   "cell_type": "code",
   "execution_count": 21,
   "id": "900b20bf",
   "metadata": {},
   "outputs": [
    {
     "name": "stdout",
     "output_type": "stream",
     "text": [
      "Prediction accuracy = 0.7061766403694439\n"
     ]
    },
    {
     "data": {
      "image/png": "[encoded data removed]",
      "text/plain": [
       "<Figure size 432x288 with 2 Axes>"
      ]
     },
     "metadata": {
      "needs_background": "light"
     },
     "output_type": "display_data"
    }
   ],
   "source": [
    "clf2 = SVC(C=1, gamma=0.001, kernel='linear')#classifier for second method\n",
    "clf2.fit(X_train, y_train)\n",
    "\n",
    "predict2 = clf2.predict(X_test)\n",
    "\n",
    "matrix2 = confusion_matrix(y_test, predict2)\n",
    "cm_display2 = ConfusionMatrixDisplay(confusion_matrix= matrix2)\n",
    "\n",
    "print('Prediction accuracy =', accuracy_score(y_test, predict2))\n",
    "cm_display2.plot()\n",
    "plt.show()"
   ]
  },
  {
   "cell_type": "code",
   "execution_count": null,
   "id": "adb19cc2",
   "metadata": {},
   "outputs": [],
   "source": [
    "User_Query = input(\"What review would you like to check \")#ask user for query they wish to check sentiment for\n",
    "user_features = feat_extract1(User_Query)\n",
    "user_features = np.array(user_features)\n",
    "user_features = user_features.reshape(1,-1)\n",
    "prediction = clf.predict(user_features)\n",
    "print(\"The review you entered is \",prediction)"
   ]
  },
  {
   "cell_type": "code",
   "execution_count": 21,
   "id": "82310b25",
   "metadata": {},
   "outputs": [
    {
     "data": {
      "text/html": [
       "\n",
       "                <audio  controls=\"controls\" autoplay=\"autoplay\">\n",
       "                    <source src=\"data:audio/mpeg;base64,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\" type=\"audio/mpeg\" />\n",
       "                    Your browser does not support the audio element.\n",
       "                </audio>\n",
       "              "
      ],
      "text/plain": [
       "<IPython.lib.display.Audio object>"
      ]
     },
     "execution_count": 21,
     "metadata": {},
     "output_type": "execute_result"
    }
   ],
   "source": [
    "#Text to be read\n",
    "text = \"\"\"The review you have entered is {User_Query}. The sentiment of\n",
    "this review seems overall {prediction}.\n",
    "\"\"\".format(User_Query = User_Query, prediction = prediction)\n",
    "\n",
    "filename = \"Assessment3.mp3\"#Text saved to file\n",
    "tts = gTTS(text, lang=\"en\", tld='co.uk', slow=False)\n",
    "tts.save(filename)\n",
    "IPython.display.Audio(filename,autoplay=True)#Read text above"
   ]
  },
  {
   "cell_type": "code",
   "execution_count": null,
   "id": "193bfb29",
   "metadata": {},
   "outputs": [],
   "source": []
  }
 ],
 "metadata": {
  "kernelspec": {
   "display_name": "Python 3 (ipykernel)",
   "language": "python",
   "name": "python3"
  },
  "language_info": {
   "codemirror_mode": {
    "name": "ipython",
    "version": 3
   },
   "file_extension": ".py",
   "mimetype": "text/x-python",
   "name": "python",
   "nbconvert_exporter": "python",
   "pygments_lexer": "ipython3",
   "version": "3.9.7"
  }
 },
 "nbformat": 4,
 "nbformat_minor": 5
}
